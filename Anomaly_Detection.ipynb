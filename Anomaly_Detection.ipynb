{
  "cells": [
    {
      "cell_type": "code",
      "execution_count": 1,
      "metadata": {
        "id": "hfS-3ROjudZf"
      },
      "outputs": [],
      "source": [
        "import numpy as np\n",
        "import matplotlib.pyplot as plt"
      ]
    },
    {
      "cell_type": "code",
      "execution_count": 2,
      "metadata": {
        "colab": {
          "base_uri": "https://localhost:8080/"
        },
        "id": "moZZCpK1udZg",
        "outputId": "d8c0caf7-40a8-4519-d0f2-77fb1bc1ece0"
      },
      "outputs": [
        {
          "name": "stdout",
          "output_type": "stream",
          "text": [
            "(20, 2)\n"
          ]
        },
        {
          "data": {
            "text/plain": [
              "array([[ 0. ,  1.8],\n",
              "       [ 2. ,  1.7],\n",
              "       [ 2.3,  2.1],\n",
              "       [ 2.5,  1.8],\n",
              "       [ 2.6,  1.9],\n",
              "       [ 2.9,  2. ],\n",
              "       [ 3. ,  2.3],\n",
              "       [ 3.5,  1.8],\n",
              "       [ 3.8,  1.9],\n",
              "       [ 4. ,  1.6],\n",
              "       [ 4.5,  1.8],\n",
              "       [ 4.9,  1.7],\n",
              "       [ 5.5,  2.1],\n",
              "       [ 5.9,  1.8],\n",
              "       [ 6. ,  1.9],\n",
              "       [ 6.8,  2. ],\n",
              "       [ 7.3,  2.3],\n",
              "       [ 8.5,  1.8],\n",
              "       [ 9.8,  1.9],\n",
              "       [10. ,  1.6]])"
            ]
          },
          "execution_count": 2,
          "metadata": {},
          "output_type": "execute_result"
        }
      ],
      "source": [
        "x=np.array([[0,1.8],[2,1.7],[2.3,2.1],[2.5,1.8],[2.6,1.9],[2.9,2.0],[3,2.3],[3.5,1.8],[3.8,1.9],[4,1.6],[4.5,1.8],[4.9,1.7],[5.5,2.1],[5.9,1.8],[6,1.9],[6.8,2.0],[7.3,2.3],[8.5,1.8],[9.8,1.9],[10.0,1.6]])\n",
        "print(np.shape(x))\n",
        "x"
      ]
    },
    {
      "cell_type": "code",
      "execution_count": 3,
      "metadata": {
        "colab": {
          "base_uri": "https://localhost:8080/",
          "height": 286
        },
        "id": "F__KSezZudZh",
        "outputId": "1c271788-f9c2-4ab0-a484-bb9ca04c1ac5"
      },
      "outputs": [
        {
          "data": {
            "text/plain": [
              "(-2.0, 15.0, -4.0, 8.0)"
            ]
          },
          "execution_count": 3,
          "metadata": {},
          "output_type": "execute_result"
        },
        {
          "data": {
            "image/png": "[encoded data removed]",
            "text/plain": [
              "<Figure size 640x480 with 1 Axes>"
            ]
          },
          "metadata": {},
          "output_type": "display_data"
        }
      ],
      "source": [
        "plt.scatter(x[:,0],x[:,1])\n",
        "plt.axis([-2,15,-4,8])"
      ]
    },
    {
      "cell_type": "code",
      "execution_count": 4,
      "metadata": {
        "id": "EPlCzyR3udZh"
      },
      "outputs": [],
      "source": [
        "def normal(x,m,s):\n",
        "    a=(1/np.sqrt(2*3.14*(s**2)))\n",
        "    b=((x-m)**2)\n",
        "    c=(2*s**2)\n",
        "    n=a*(np.exp(-b/c))\n",
        "    return n"
      ]
    },
    {
      "cell_type": "code",
      "execution_count": 5,
      "metadata": {
        "colab": {
          "base_uri": "https://localhost:8080/"
        },
        "id": "klbWTcmfudZh",
        "outputId": "1986a746-c39f-4ca7-d157-2ebdc291b71b"
      },
      "outputs": [
        {
          "data": {
            "text/plain": [
              "(1000,)"
            ]
          },
          "execution_count": 5,
          "metadata": {},
          "output_type": "execute_result"
        }
      ],
      "source": [
        "x_=np.linspace(-20,20,1000)\n",
        "np.shape(x_)"
      ]
    },
    {
      "cell_type": "code",
      "execution_count": 6,
      "metadata": {
        "id": "Zo-wOYExudZi"
      },
      "outputs": [],
      "source": [
        "x1=x[:,0]\n",
        "mean1=np.mean(x1)\n",
        "sd1=np.std(x1)\n",
        "N1=normal(x_,mean1,sd1)"
      ]
    },
    {
      "cell_type": "code",
      "execution_count": 7,
      "metadata": {
        "id": "_9qcfKouudZi"
      },
      "outputs": [],
      "source": [
        "x2=x[:,1]\n",
        "mean2=np.mean(x2)\n",
        "sd2=np.std(x2)\n",
        "N2=normal(x_,mean2,sd2)"
      ]
    },
    {
      "cell_type": "code",
      "execution_count": 8,
      "metadata": {
        "id": "47Q0_VH4udZi"
      },
      "outputs": [],
      "source": [
        "N=N1*N2"
      ]
    },
    {
      "cell_type": "code",
      "execution_count": 9,
      "metadata": {
        "colab": {
          "base_uri": "https://localhost:8080/",
          "height": 282
        },
        "id": "MifsTGeGudZi",
        "outputId": "60cd8896-a907-4539-98ca-ecbf7ad6dc33"
      },
      "outputs": [
        {
          "data": {
            "text/plain": [
              "[<matplotlib.lines.Line2D at 0x17c28de0670>]"
            ]
          },
          "execution_count": 9,
          "metadata": {},
          "output_type": "execute_result"
        },
        {
          "data": {
            "image/png": "[encoded data removed]",
            "text/plain": [
              "<Figure size 640x480 with 1 Axes>"
            ]
          },
          "metadata": {},
          "output_type": "display_data"
        }
      ],
      "source": [
        "plt.plot(x_,N1)\n",
        "plt.plot(x_,N2)\n",
        "plt.plot(x_,N)"
      ]
    },
    {
      "cell_type": "code",
      "execution_count": 10,
      "metadata": {
        "id": "rNs6QDAqudZj"
      },
      "outputs": [],
      "source": [
        "x_test=np.array([0,1.8])"
      ]
    },
    {
      "cell_type": "code",
      "execution_count": 11,
      "metadata": {
        "id": "ajR1sE6EudZj"
      },
      "outputs": [],
      "source": [
        "N1_=normal(x_test[0],mean1,sd1)"
      ]
    },
    {
      "cell_type": "code",
      "execution_count": 12,
      "metadata": {
        "id": "umnI41etudZj"
      },
      "outputs": [],
      "source": [
        "N2_=normal(x_test[1],mean2,sd2)"
      ]
    },
    {
      "cell_type": "code",
      "execution_count": 13,
      "metadata": {
        "colab": {
          "base_uri": "https://localhost:8080/"
        },
        "id": "EuNu29gludZj",
        "outputId": "2c9570a3-a495-4c68-bd13-ab002138edc8"
      },
      "outputs": [
        {
          "data": {
            "text/plain": [
              "0.053015452070906875"
            ]
          },
          "execution_count": 13,
          "metadata": {},
          "output_type": "execute_result"
        }
      ],
      "source": [
        "N_=N1_*N2_\n",
        "N_"
      ]
    },
    {
      "cell_type": "code",
      "execution_count": 14,
      "metadata": {
        "colab": {
          "base_uri": "https://localhost:8080/"
        },
        "id": "537EkouRudZk",
        "outputId": "d3348dd4-b810-40a1-e102-9c51d4c400bc"
      },
      "outputs": [
        {
          "name": "stdout",
          "output_type": "stream",
          "text": [
            "Perfect Value\n"
          ]
        }
      ],
      "source": [
        "th_val=0.02\n",
        "if(N_<0.02):\n",
        "    print(\"Annonomus Value\")\n",
        "else:\n",
        "    print(\"Perfect Value\")"
      ]
    }
  ],
  "metadata": {
    "colab": {
      "provenance": []
    },
    "kernelspec": {
      "display_name": "Python 3.10.6 64-bit",
      "language": "python",
      "name": "python3"
    },
    "language_info": {
      "codemirror_mode": {
        "name": "ipython",
        "version": 3
      },
      "file_extension": ".py",
      "mimetype": "text/x-python",
      "name": "python",
      "nbconvert_exporter": "python",
      "pygments_lexer": "ipython3",
      "version": "3.10.6"
    },
    "vscode": {
      "interpreter": {
        "hash": "73261e48852d51a8619d3559d80afe0391a56a50e480a00694bcdf352813ba28"
      }
    }
  },
  "nbformat": 4,
  "nbformat_minor": 0
}
